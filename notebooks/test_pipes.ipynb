{
 "cells": [
  {
   "cell_type": "code",
   "execution_count": 2,
   "id": "74c6112c-0118-4478-80a9-d8c81e12f4ed",
   "metadata": {},
   "outputs": [],
   "source": [
    "# Importations de packages\n",
    "import numpy as np\n",
    "import geopandas as gpd\n",
    "import folium\n",
    "import src.traitements as traitements\n",
    "import pandas as pd"
   ]
  },
  {
   "cell_type": "code",
   "execution_count": 3,
   "id": "b7febebd-8f9c-41a1-84cc-e4c87219ec35",
   "metadata": {},
   "outputs": [],
   "source": [
    "from src.config import *\n",
    "from src.utils import make_path, check_dir"
   ]
  },
  {
   "cell_type": "code",
   "execution_count": 7,
   "id": "e5fb8151-58d7-4a77-876c-54457c4094a7",
   "metadata": {},
   "outputs": [],
   "source": [
    "r = 25000.0 # rayon de la zone d'étude en mètres\n",
    "radius_name = int(r/1000)\n",
    "roi_name = METRO_NAME.lower()\n",
    "# Paramétrage de la période d'étude\n",
    "date_start = '2013-01-01' # date de début\n",
    "date_end   = '2023-01-01' # date de fin\n",
    "time_period_start = date_start[:4]\n",
    "time_period_end   = date_end[:4]\n",
    "years_data = int(time_period_end) - int(time_period_start)"
   ]
  },
  {
   "cell_type": "code",
   "execution_count": 8,
   "id": "93b223f9-26bc-43f4-afa5-798687bacdf2",
   "metadata": {},
   "outputs": [],
   "source": [
    "name =\"lyon\"\n",
    "year = \"2013\"\n",
    "\n",
    "communes_path = os.path.join(\n",
    "    communes_roi_dir.format(name, year),\n",
    "    communes_roi_file_name.format(name, year)\n",
    ")\n",
    "communes = gpd.read_file(communes_path)"
   ]
  },
  {
   "cell_type": "code",
   "execution_count": null,
   "id": "63e0065f-261f-45b5-8460-8d1b67895c11",
   "metadata": {},
   "outputs": [],
   "source": [
    "old_area = bati_indus_2013_old"
   ]
  },
  {
   "cell_type": "markdown",
   "id": "785fe24d-60ba-4a6f-ac07-81bae38dedf5",
   "metadata": {},
   "source": [
    "### Compare"
   ]
  },
  {
   "cell_type": "code",
   "execution_count": 5,
   "id": "5e65b85a-14d7-4ed8-96b7-3be2cf9483a4",
   "metadata": {},
   "outputs": [],
   "source": [
    "date = '2013-01-01' # date de début\n",
    "year = date[:4]\n",
    "name=\"lyon\""
   ]
  },
  {
   "cell_type": "markdown",
   "id": "178bfdf9-5686-4649-8cdc-9560b962a8b9",
   "metadata": {},
   "source": [
    "### SIREN"
   ]
  },
  {
   "cell_type": "code",
   "execution_count": 118,
   "id": "281713a2-e51d-4285-a310-903cf8418b50",
   "metadata": {},
   "outputs": [],
   "source": [
    "siren_old = \"/home/rustt/Documents/IGAST/2_PROJETS/Projet_analyse_spatiale/old_review/data/processed/SIREN/SIREN_Entrepots_2013-01-01.csv\"\n",
    "siren_old = pd.read_csv(siren_old, dtype={\"siret\":str})"
   ]
  },
  {
   "cell_type": "code",
   "execution_count": 119,
   "id": "912a7ce9-17c6-4690-94bf-d0c0b36a1f00",
   "metadata": {},
   "outputs": [],
   "source": [
    "SirenEntrepotsFolder = check_dir(processed_data_path, \"SIREN\")\n",
    "datestr = str(date)\n",
    "siren_new = pd.read_csv(make_path(siren_name.format(datestr), SirenEntrepotsFolder), dtype={\"siret\":str})"
   ]
  },
  {
   "cell_type": "code",
   "execution_count": 120,
   "id": "3f3c5e84-95b3-430e-9bcf-396626eb8685",
   "metadata": {},
   "outputs": [
    {
     "data": {
      "text/plain": [
       "16834"
      ]
     },
     "execution_count": 120,
     "metadata": {},
     "output_type": "execute_result"
    }
   ],
   "source": [
    "len(set(siren_old.siret).intersection(set(siren_new.siret)))"
   ]
  },
  {
   "cell_type": "code",
   "execution_count": 121,
   "id": "c2e2d0c7-33b0-4f40-b1c8-9d93bd8e9340",
   "metadata": {},
   "outputs": [
    {
     "data": {
      "text/plain": [
       "(16834, 5)"
      ]
     },
     "execution_count": 121,
     "metadata": {},
     "output_type": "execute_result"
    }
   ],
   "source": [
    "siren_old.shape"
   ]
  },
  {
   "cell_type": "code",
   "execution_count": 122,
   "id": "469bda8c-6016-40f2-9fa7-48558126579c",
   "metadata": {},
   "outputs": [
    {
     "data": {
      "text/plain": [
       "(16834, 5)"
      ]
     },
     "execution_count": 122,
     "metadata": {},
     "output_type": "execute_result"
    }
   ],
   "source": [
    "siren_new.shape"
   ]
  },
  {
   "cell_type": "markdown",
   "id": "db1699ee-da1d-4290-9e3a-07ecb82727d2",
   "metadata": {},
   "source": [
    "### GEoSIREN"
   ]
  },
  {
   "cell_type": "code",
   "execution_count": 43,
   "id": "7c8dcc5a-0802-4243-96f9-23518e9343fb",
   "metadata": {},
   "outputs": [],
   "source": [
    "geosiren_old = \"/home/rustt/Documents/IGAST/2_PROJETS/Projet_analyse_spatiale/old_review/data/processed/SIREN/GeoSiren_LYON_25km.csv\"\n",
    "geosiren_old = pd.read_csv(geosiren_old)\n",
    "geosiren_old = gpd.GeoDataFrame(\n",
    "    geosiren_old, geometry=gpd.points_from_xy(geosiren_old[\"x\"], geosiren_old[\"y\"]), crs=CRS\n",
    ")"
   ]
  },
  {
   "cell_type": "code",
   "execution_count": 44,
   "id": "d2e562c2-9a94-4bda-b385-4022f4bb8efa",
   "metadata": {},
   "outputs": [
    {
     "data": {
      "text/plain": [
       "(1080181, 5)"
      ]
     },
     "execution_count": 44,
     "metadata": {},
     "output_type": "execute_result"
    }
   ],
   "source": [
    "geosiren_old.shape"
   ]
  },
  {
   "cell_type": "code",
   "execution_count": 42,
   "id": "2391a0ee-215d-447a-a511-0cb3c35500db",
   "metadata": {},
   "outputs": [],
   "source": [
    "from src.config import *\n",
    "root_out_dir = check_dir(processed_data_path, name, \"2023\")\n",
    "out_dir_siren = check_dir(root_out_dir, \"SIREN\")\n",
    "geosiren_new = gpd.read_file(make_path(geosiren_name.format(name, radius_name),  out_dir_siren))"
   ]
  },
  {
   "cell_type": "code",
   "execution_count": 45,
   "id": "0ff28283-aced-4d28-bd07-458c5bccc507",
   "metadata": {},
   "outputs": [
    {
     "data": {
      "text/plain": [
       "(1080181, 5)"
      ]
     },
     "execution_count": 45,
     "metadata": {},
     "output_type": "execute_result"
    }
   ],
   "source": [
    "geosiren_new.shape"
   ]
  },
  {
   "cell_type": "code",
   "execution_count": 48,
   "id": "aaa87aba-d606-4e9d-8c03-d6bca9663e25",
   "metadata": {},
   "outputs": [
    {
     "data": {
      "text/plain": [
       "1080181"
      ]
     },
     "execution_count": 48,
     "metadata": {},
     "output_type": "execute_result"
    }
   ],
   "source": [
    "len(set(geosiren_old.siret.astype(int)).intersection(set(geosiren_new.siret.astype(int))))"
   ]
  },
  {
   "cell_type": "markdown",
   "id": "c3841e72-ad61-48cb-82a9-4297b7f7a3a2",
   "metadata": {},
   "source": [
    "### Merge"
   ]
  },
  {
   "cell_type": "code",
   "execution_count": 22,
   "id": "3f26ab45-7782-4c68-b5b3-db5654aa5f1e",
   "metadata": {},
   "outputs": [
    {
     "name": "stdout",
     "output_type": "stream",
     "text": [
      "Entrepots_LYON_2013-01-01_25km.csv\n"
     ]
    }
   ],
   "source": [
    "ls /home/rustt/Documents/IGAST/2_PROJETS/Projet_analyse_spatiale/old_review/data/processed/Entrepots/csv/"
   ]
  },
  {
   "cell_type": "code",
   "execution_count": 104,
   "id": "fcce64e3-8fce-4c52-a769-df5cb8d880cb",
   "metadata": {},
   "outputs": [],
   "source": [
    "merge_old = pd.read_csv(\"/home/rustt/Documents/IGAST/2_PROJETS/Projet_analyse_spatiale/old_review/data/processed/Entrepots/csv/Entrepots_LYON_2013-01-01_25km.csv\")\n",
    "merge_old = gpd.GeoDataFrame(\n",
    "    merge_old, geometry=gpd.points_from_xy(merge_old[\"x\"], merge_old[\"y\"]), crs=CRS\n",
    ")"
   ]
  },
  {
   "cell_type": "code",
   "execution_count": 105,
   "id": "6ae0ef49-4cd9-4373-9de9-06187de5f244",
   "metadata": {},
   "outputs": [],
   "source": [
    "merge_new = gpd.read_file(\"/home/rustt/Documents/IGAST/2_PROJETS/Projet_analyse_spatiale/logistics_sprawl/data/processed/lyon/2013/Entrepots/Entrepots_lyon_2013_25km.gpkg\")"
   ]
  },
  {
   "cell_type": "code",
   "execution_count": 106,
   "id": "028d52bf-0f13-41f1-9fe2-232ff0e41227",
   "metadata": {},
   "outputs": [],
   "source": [
    "missing_siret = set(merge_old.siret.astype(str)).difference(set(merge_new.siret.astype(str)))"
   ]
  },
  {
   "cell_type": "code",
   "execution_count": 107,
   "id": "f6f9fb5e-fdee-4360-9efa-e7a7b39784d1",
   "metadata": {},
   "outputs": [
    {
     "data": {
      "text/plain": [
       "0"
      ]
     },
     "execution_count": 107,
     "metadata": {},
     "output_type": "execute_result"
    }
   ],
   "source": [
    "len(missing_siret)"
   ]
  },
  {
   "cell_type": "code",
   "execution_count": 108,
   "id": "20cb4297-1e7d-465c-aa33-92e9fa52de81",
   "metadata": {},
   "outputs": [
    {
     "data": {
      "text/plain": [
       "0"
      ]
     },
     "execution_count": 108,
     "metadata": {},
     "output_type": "execute_result"
    }
   ],
   "source": [
    "len(set(merge_new.siret.astype(str)).difference(set(merge_old.siret.astype(str))))"
   ]
  },
  {
   "cell_type": "code",
   "execution_count": 109,
   "id": "bee95d3d-fbfc-4f1c-9fd6-2d764e737c37",
   "metadata": {},
   "outputs": [
    {
     "data": {
      "text/plain": [
       "(778, 9)"
      ]
     },
     "execution_count": 109,
     "metadata": {},
     "output_type": "execute_result"
    }
   ],
   "source": [
    "merge_new.shape"
   ]
  },
  {
   "cell_type": "markdown",
   "id": "c0d5c2d3-813f-42f1-8ce8-55c81a47dca3",
   "metadata": {},
   "source": [
    "### BDTOPO"
   ]
  },
  {
   "cell_type": "code",
   "execution_count": 6,
   "id": "588518a0-8d21-4784-beef-d164cf240077",
   "metadata": {},
   "outputs": [],
   "source": [
    "old_bdtopo = make_path(\"BATI_INDUSTRIEL_{}.shp\", processed_data_path, \"old\", \"BDTOPO\", \"LYON\", \"BATI_INDUSTRIEL_{}\")"
   ]
  },
  {
   "cell_type": "code",
   "execution_count": 7,
   "id": "26911d7a-faab-40f4-83e9-39c7747631a2",
   "metadata": {},
   "outputs": [],
   "source": [
    "bati_indus_2013_old = gpd.read_file(old_bdtopo.format(\"2013\", \"2013\"))\n",
    "bati_indus_2023_old = gpd.read_file(old_bdtopo.format(\"2023\", \"2023\"))"
   ]
  },
  {
   "cell_type": "code",
   "execution_count": 39,
   "id": "94f7d800-c70a-4e42-a880-b866a68cb433",
   "metadata": {},
   "outputs": [],
   "source": [
    "new_bdtopo = make_path(\"bati_indus_lyon_{}.gpkg\", processed_data_path, \"lyon\", \"{}\", \"BDTOPO\")\n",
    "bati_indus_2013_new = gpd.read_file(new_bdtopo.format(\"2013\", \"2013\"))\n",
    "bati_indus_2023_new = gpd.read_file(new_bdtopo.format(\"2023\", \"2023\"))"
   ]
  },
  {
   "cell_type": "code",
   "execution_count": 16,
   "id": "53b9d827-831d-421a-9ad6-2dca1ef5bffe",
   "metadata": {},
   "outputs": [],
   "source": [
    "old_area = gpd.sjoin(bati_indus_2013_old, communes.dissolve(), how=\"inner\", predicate=\"intersects\")\n",
    "new_area = gpd.sjoin(bati_indus_2013_new, communes.dissolve(), how=\"inner\", predicate=\"intersects\")"
   ]
  },
  {
   "cell_type": "code",
   "execution_count": 41,
   "id": "7897ca49-ecbc-4135-b2c2-42b267bf35c5",
   "metadata": {},
   "outputs": [],
   "source": [
    "bdtopo69_2023 = gpd.read_file(\"/home/rustt/Documents/IGAST/2_PROJETS/Projet_analyse_spatiale/logistics_sprawl/data/raw/lyon/2023/BDTOPO/BDTOPO_3-3_TOUSTHEMES_SHP_LAMB93_D069_2023-03-15/BDTOPO/1_DONNEES_LIVRAISON_2023-03-00212/BDT_3-3_SHP_LAMB93_D069-ED2023-03-15/BATI/BATIMENT.shp\")"
   ]
  },
  {
   "cell_type": "code",
   "execution_count": 17,
   "id": "e96c56eb-af99-4b45-99c4-bb2fc8f53d02",
   "metadata": {},
   "outputs": [
    {
     "data": {
      "text/plain": [
       "(27157, 14)"
      ]
     },
     "execution_count": 17,
     "metadata": {},
     "output_type": "execute_result"
    }
   ],
   "source": [
    "old_area.shape"
   ]
  },
  {
   "cell_type": "code",
   "execution_count": 18,
   "id": "48f82ade-2383-4fd6-a02b-1c08e677946d",
   "metadata": {},
   "outputs": [
    {
     "data": {
      "text/plain": [
       "(31345, 15)"
      ]
     },
     "execution_count": 18,
     "metadata": {},
     "output_type": "execute_result"
    }
   ],
   "source": [
    "new_area.shape"
   ]
  },
  {
   "cell_type": "code",
   "execution_count": 19,
   "id": "df8d1d39-a1e8-4edc-a7c5-0f56c80588d4",
   "metadata": {},
   "outputs": [],
   "source": [
    "old_area = gpd.sjoin(bati_indus_2023_old, communes.dissolve(), how=\"inner\", predicate=\"intersects\")\n",
    "new_area = gpd.sjoin(bati_indus_2023_new, communes.dissolve(), how=\"inner\", predicate=\"intersects\")"
   ]
  },
  {
   "cell_type": "code",
   "execution_count": 20,
   "id": "1c5d913b-e059-45cd-985c-c9aa78696999",
   "metadata": {},
   "outputs": [
    {
     "data": {
      "text/plain": [
       "(24348, 14)"
      ]
     },
     "execution_count": 20,
     "metadata": {},
     "output_type": "execute_result"
    }
   ],
   "source": [
    "old_area.shape"
   ]
  },
  {
   "cell_type": "code",
   "execution_count": 21,
   "id": "e9d8dbf9-f5be-44f8-baf7-d7e28819b531",
   "metadata": {},
   "outputs": [
    {
     "data": {
      "text/plain": [
       "(15966, 15)"
      ]
     },
     "execution_count": 21,
     "metadata": {},
     "output_type": "execute_result"
    }
   ],
   "source": [
    "new_area.shape"
   ]
  },
  {
   "cell_type": "code",
   "execution_count": 46,
   "id": "0db0e82a-bf3d-4fce-a47c-811234c00878",
   "metadata": {},
   "outputs": [],
   "source": [
    "bati_test_2013 = wh_new[wh_new[\"id\"] == \"BATIMENT0000000201392314\"]"
   ]
  },
  {
   "cell_type": "code",
   "execution_count": 47,
   "id": "50c5066d-ca12-43f6-a8f4-1aeeb8829b82",
   "metadata": {},
   "outputs": [
    {
     "data": {
      "text/html": [
       "<div>\n",
       "<style scoped>\n",
       "    .dataframe tbody tr th:only-of-type {\n",
       "        vertical-align: middle;\n",
       "    }\n",
       "\n",
       "    .dataframe tbody tr th {\n",
       "        vertical-align: top;\n",
       "    }\n",
       "\n",
       "    .dataframe thead th {\n",
       "        text-align: right;\n",
       "    }\n",
       "</style>\n",
       "<table border=\"1\" class=\"dataframe\">\n",
       "  <thead>\n",
       "    <tr style=\"text-align: right;\">\n",
       "      <th></th>\n",
       "      <th>id</th>\n",
       "      <th>NATURE</th>\n",
       "      <th>geometry</th>\n",
       "    </tr>\n",
       "  </thead>\n",
       "  <tbody>\n",
       "    <tr>\n",
       "      <th>62</th>\n",
       "      <td>BATIMENT0000000201392314</td>\n",
       "      <td>Bâtiment industriel</td>\n",
       "      <td>POLYGON Z ((849461.400 6519615.300 197.900, 84...</td>\n",
       "    </tr>\n",
       "  </tbody>\n",
       "</table>\n",
       "</div>"
      ],
      "text/plain": [
       "                          id               NATURE  \\\n",
       "62  BATIMENT0000000201392314  Bâtiment industriel   \n",
       "\n",
       "                                             geometry  \n",
       "62  POLYGON Z ((849461.400 6519615.300 197.900, 84...  "
      ]
     },
     "execution_count": 47,
     "metadata": {},
     "output_type": "execute_result"
    }
   ],
   "source": [
    "bati_test_2013"
   ]
  },
  {
   "cell_type": "code",
   "execution_count": 40,
   "id": "138245c9-66c4-4d81-9314-5d2cf799c12f",
   "metadata": {},
   "outputs": [
    {
     "data": {
      "text/html": [
       "<div>\n",
       "<style scoped>\n",
       "    .dataframe tbody tr th:only-of-type {\n",
       "        vertical-align: middle;\n",
       "    }\n",
       "\n",
       "    .dataframe tbody tr th {\n",
       "        vertical-align: top;\n",
       "    }\n",
       "\n",
       "    .dataframe thead th {\n",
       "        text-align: right;\n",
       "    }\n",
       "</style>\n",
       "<table border=\"1\" class=\"dataframe\">\n",
       "  <thead>\n",
       "    <tr style=\"text-align: right;\">\n",
       "      <th></th>\n",
       "      <th>ID</th>\n",
       "      <th>NATURE_left</th>\n",
       "      <th>geometry</th>\n",
       "      <th>index_right</th>\n",
       "      <th>id</th>\n",
       "      <th>NATURE_right</th>\n",
       "    </tr>\n",
       "  </thead>\n",
       "  <tbody>\n",
       "  </tbody>\n",
       "</table>\n",
       "</div>"
      ],
      "text/plain": [
       "Empty GeoDataFrame\n",
       "Columns: [ID, NATURE_left, geometry, index_right, id, NATURE_right]\n",
       "Index: []"
      ]
     },
     "execution_count": 40,
     "metadata": {},
     "output_type": "execute_result"
    }
   ],
   "source": [
    "gpd.sjoin(bati_indus_2023_new, bati_test)"
   ]
  },
  {
   "cell_type": "code",
   "execution_count": 43,
   "id": "06afa582-1d6b-4bf5-8c28-a29adf10bed1",
   "metadata": {},
   "outputs": [],
   "source": [
    "correpondance_2023 = gpd.sjoin(bdtopo69_2023, bati_test_2013, how=\"inner\", predicate=\"intersects\")"
   ]
  },
  {
   "cell_type": "code",
   "execution_count": 48,
   "id": "154f04b6-3061-4a5a-b805-9a2d12870eab",
   "metadata": {},
   "outputs": [
    {
     "data": {
      "text/html": [
       "<div style=\"width:100%;\"><div style=\"position:relative;width:100%;height:0;padding-bottom:60%;\"><span style=\"color:#565656\">Make this Notebook Trusted to load map: File -> Trust Notebook</span><iframe srcdoc=\"&lt;!DOCTYPE html&gt;\n",
       "&lt;html&gt;\n",
       "&lt;head&gt;\n",
       "    \n",
       "    &lt;meta http-equiv=&quot;content-type&quot; content=&quot;text/html; charset=UTF-8&quot; /&gt;\n",
       "    \n",
       "        &lt;script&gt;\n",
       "            L_NO_TOUCH = false;\n",
       "            L_DISABLE_3D = false;\n",
       "        &lt;/script&gt;\n",
       "    \n",
       "    &lt;style&gt;html, body {width: 100%;height: 100%;margin: 0;padding: 0;}&lt;/style&gt;\n",
       "    &lt;style&gt;#map {position:absolute;top:0;bottom:0;right:0;left:0;}&lt;/style&gt;\n",
       "    &lt;script src=&quot;https://cdn.jsdelivr.net/npm/leaflet@1.9.3/dist/leaflet.js&quot;&gt;&lt;/script&gt;\n",
       "    &lt;script src=&quot;https://code.jquery.com/jquery-3.7.1.min.js&quot;&gt;&lt;/script&gt;\n",
       "    &lt;script src=&quot;https://cdn.jsdelivr.net/npm/bootstrap@5.2.2/dist/js/bootstrap.bundle.min.js&quot;&gt;&lt;/script&gt;\n",
       "    &lt;script src=&quot;https://cdnjs.cloudflare.com/ajax/libs/Leaflet.awesome-markers/2.0.2/leaflet.awesome-markers.js&quot;&gt;&lt;/script&gt;\n",
       "    &lt;link rel=&quot;stylesheet&quot; href=&quot;https://cdn.jsdelivr.net/npm/leaflet@1.9.3/dist/leaflet.css&quot;/&gt;\n",
       "    &lt;link rel=&quot;stylesheet&quot; href=&quot;https://cdn.jsdelivr.net/npm/bootstrap@5.2.2/dist/css/bootstrap.min.css&quot;/&gt;\n",
       "    &lt;link rel=&quot;stylesheet&quot; href=&quot;https://netdna.bootstrapcdn.com/bootstrap/3.0.0/css/bootstrap.min.css&quot;/&gt;\n",
       "    &lt;link rel=&quot;stylesheet&quot; href=&quot;https://cdn.jsdelivr.net/npm/@fortawesome/fontawesome-free@6.2.0/css/all.min.css&quot;/&gt;\n",
       "    &lt;link rel=&quot;stylesheet&quot; href=&quot;https://cdnjs.cloudflare.com/ajax/libs/Leaflet.awesome-markers/2.0.2/leaflet.awesome-markers.css&quot;/&gt;\n",
       "    &lt;link rel=&quot;stylesheet&quot; href=&quot;https://cdn.jsdelivr.net/gh/python-visualization/folium/folium/templates/leaflet.awesome.rotate.min.css&quot;/&gt;\n",
       "    \n",
       "            &lt;meta name=&quot;viewport&quot; content=&quot;width=device-width,\n",
       "                initial-scale=1.0, maximum-scale=1.0, user-scalable=no&quot; /&gt;\n",
       "            &lt;style&gt;\n",
       "                #map_0ec0a276af47b3e1c2cf9ff8ef1f930d {\n",
       "                    position: relative;\n",
       "                    width: 100.0%;\n",
       "                    height: 100.0%;\n",
       "                    left: 0.0%;\n",
       "                    top: 0.0%;\n",
       "                }\n",
       "                .leaflet-container { font-size: 1rem; }\n",
       "            &lt;/style&gt;\n",
       "        \n",
       "    \n",
       "                    &lt;style&gt;\n",
       "                        .foliumtooltip {\n",
       "                            \n",
       "                        }\n",
       "                       .foliumtooltip table{\n",
       "                            margin: auto;\n",
       "                        }\n",
       "                        .foliumtooltip tr{\n",
       "                            text-align: left;\n",
       "                        }\n",
       "                        .foliumtooltip th{\n",
       "                            padding: 2px; padding-right: 8px;\n",
       "                        }\n",
       "                    &lt;/style&gt;\n",
       "            \n",
       "    \n",
       "                    &lt;style&gt;\n",
       "                        .foliumtooltip {\n",
       "                            \n",
       "                        }\n",
       "                       .foliumtooltip table{\n",
       "                            margin: auto;\n",
       "                        }\n",
       "                        .foliumtooltip tr{\n",
       "                            text-align: left;\n",
       "                        }\n",
       "                        .foliumtooltip th{\n",
       "                            padding: 2px; padding-right: 8px;\n",
       "                        }\n",
       "                    &lt;/style&gt;\n",
       "            \n",
       "&lt;/head&gt;\n",
       "&lt;body&gt;\n",
       "    \n",
       "    \n",
       "            &lt;div class=&quot;folium-map&quot; id=&quot;map_0ec0a276af47b3e1c2cf9ff8ef1f930d&quot; &gt;&lt;/div&gt;\n",
       "        \n",
       "&lt;/body&gt;\n",
       "&lt;script&gt;\n",
       "    \n",
       "    \n",
       "            var map_0ec0a276af47b3e1c2cf9ff8ef1f930d = L.map(\n",
       "                &quot;map_0ec0a276af47b3e1c2cf9ff8ef1f930d&quot;,\n",
       "                {\n",
       "                    center: [45.75960565645962, 4.921913706119144],\n",
       "                    crs: L.CRS.EPSG3857,\n",
       "                    zoom: 10,\n",
       "                    zoomControl: true,\n",
       "                    preferCanvas: false,\n",
       "                }\n",
       "            );\n",
       "            L.control.scale().addTo(map_0ec0a276af47b3e1c2cf9ff8ef1f930d);\n",
       "\n",
       "            \n",
       "\n",
       "        \n",
       "    \n",
       "            var tile_layer_f4fb67964f404f3d069765b39bc9b80b = L.tileLayer(\n",
       "                &quot;https://tile.openstreetmap.org/{z}/{x}/{y}.png&quot;,\n",
       "                {&quot;attribution&quot;: &quot;\\u0026copy; \\u003ca href=\\&quot;https://www.openstreetmap.org/copyright\\&quot;\\u003eOpenStreetMap\\u003c/a\\u003e contributors&quot;, &quot;detectRetina&quot;: false, &quot;maxNativeZoom&quot;: 19, &quot;maxZoom&quot;: 19, &quot;minZoom&quot;: 0, &quot;noWrap&quot;: false, &quot;opacity&quot;: 1, &quot;subdomains&quot;: &quot;abc&quot;, &quot;tms&quot;: false}\n",
       "            );\n",
       "        \n",
       "    \n",
       "            tile_layer_f4fb67964f404f3d069765b39bc9b80b.addTo(map_0ec0a276af47b3e1c2cf9ff8ef1f930d);\n",
       "        \n",
       "    \n",
       "            map_0ec0a276af47b3e1c2cf9ff8ef1f930d.fitBounds(\n",
       "                [[45.759241950513974, 4.920964290984386], [45.759969362405265, 4.922863121253901]],\n",
       "                {}\n",
       "            );\n",
       "        \n",
       "    \n",
       "        function geo_json_af4c58b5fabc21e2d3798e4df614f1f4_styler(feature) {\n",
       "            switch(feature.id) {\n",
       "                default:\n",
       "                    return {&quot;fillOpacity&quot;: 0.5, &quot;weight&quot;: 2};\n",
       "            }\n",
       "        }\n",
       "        function geo_json_af4c58b5fabc21e2d3798e4df614f1f4_highlighter(feature) {\n",
       "            switch(feature.id) {\n",
       "                default:\n",
       "                    return {&quot;fillOpacity&quot;: 0.75};\n",
       "            }\n",
       "        }\n",
       "        function geo_json_af4c58b5fabc21e2d3798e4df614f1f4_pointToLayer(feature, latlng) {\n",
       "            var opts = {&quot;bubblingMouseEvents&quot;: true, &quot;color&quot;: &quot;#3388ff&quot;, &quot;dashArray&quot;: null, &quot;dashOffset&quot;: null, &quot;fill&quot;: true, &quot;fillColor&quot;: &quot;#3388ff&quot;, &quot;fillOpacity&quot;: 0.2, &quot;fillRule&quot;: &quot;evenodd&quot;, &quot;lineCap&quot;: &quot;round&quot;, &quot;lineJoin&quot;: &quot;round&quot;, &quot;opacity&quot;: 1.0, &quot;radius&quot;: 2, &quot;stroke&quot;: true, &quot;weight&quot;: 3};\n",
       "            \n",
       "            let style = geo_json_af4c58b5fabc21e2d3798e4df614f1f4_styler(feature)\n",
       "            Object.assign(opts, style)\n",
       "            \n",
       "            return new L.CircleMarker(latlng, opts)\n",
       "        }\n",
       "\n",
       "        function geo_json_af4c58b5fabc21e2d3798e4df614f1f4_onEachFeature(feature, layer) {\n",
       "            layer.on({\n",
       "                mouseout: function(e) {\n",
       "                    if(typeof e.target.setStyle === &quot;function&quot;){\n",
       "                            geo_json_af4c58b5fabc21e2d3798e4df614f1f4.resetStyle(e.target);\n",
       "                    }\n",
       "                },\n",
       "                mouseover: function(e) {\n",
       "                    if(typeof e.target.setStyle === &quot;function&quot;){\n",
       "                        const highlightStyle = geo_json_af4c58b5fabc21e2d3798e4df614f1f4_highlighter(e.target.feature)\n",
       "                        e.target.setStyle(highlightStyle);\n",
       "                    }\n",
       "                },\n",
       "            });\n",
       "        };\n",
       "        var geo_json_af4c58b5fabc21e2d3798e4df614f1f4 = L.geoJson(null, {\n",
       "                onEachFeature: geo_json_af4c58b5fabc21e2d3798e4df614f1f4_onEachFeature,\n",
       "            \n",
       "                style: geo_json_af4c58b5fabc21e2d3798e4df614f1f4_styler,\n",
       "                pointToLayer: geo_json_af4c58b5fabc21e2d3798e4df614f1f4_pointToLayer,\n",
       "        });\n",
       "\n",
       "        function geo_json_af4c58b5fabc21e2d3798e4df614f1f4_add (data) {\n",
       "            geo_json_af4c58b5fabc21e2d3798e4df614f1f4\n",
       "                .addData(data);\n",
       "        }\n",
       "            geo_json_af4c58b5fabc21e2d3798e4df614f1f4_add({&quot;bbox&quot;: [4.920964290984386, 45.759241950513974, 4.922863121253901, 45.759969362405265], &quot;features&quot;: [{&quot;bbox&quot;: [4.92180258455928, 45.75962949814851, 4.922534730161209, 45.75995757474885], &quot;geometry&quot;: {&quot;coordinates&quot;: [[[4.922534730161209, 45.759918074689054, 200.9], [4.922519146241665, 45.759803043622206, 200.9], [4.922512751042022, 45.7597301914374, 204.3], [4.922501526645424, 45.75962949814851, 204.3], [4.922057191194795, 45.75965598695825, 204.3], [4.92200433082605, 45.75972714667261, 183.1], [4.921985978509322, 45.75975448206982, 211.2], [4.921908905843733, 45.75975849767942, 211.5], [4.92180258455928, 45.75995757474885, 211.5], [4.921884770659169, 45.759952571330096, 196.9], [4.922267594324675, 45.75993343689835, 211.3], [4.922534730161209, 45.759918074689054, 200.9]]], &quot;type&quot;: &quot;Polygon&quot;}, &quot;id&quot;: &quot;48119&quot;, &quot;properties&quot;: {&quot;ACQU_ALTI&quot;: &quot;Photogramm\\u00e9trie&quot;, &quot;ACQU_PLANI&quot;: &quot;Photogramm\\u00e9trie&quot;, &quot;APP_FF&quot;: null, &quot;DATE_APP&quot;: null, &quot;DATE_CONF&quot;: &quot;2020-06-24&quot;, &quot;DATE_CREAT&quot;: &quot;2021-12-16 16:46:56&quot;, &quot;DATE_MAJ&quot;: null, &quot;ETAT&quot;: &quot;En service&quot;, &quot;HAUTEUR&quot;: 28.1, &quot;ID&quot;: &quot;BATIMENT0000002275503722&quot;, &quot;ID_SOURCE&quot;: null, &quot;LEGER&quot;: &quot;Non&quot;, &quot;MAT_MURS&quot;: null, &quot;MAT_TOITS&quot;: null, &quot;NATURE_left&quot;: &quot;Indiff\\u00e9renci\\u00e9e&quot;, &quot;NATURE_right&quot;: &quot;B\\u00e2timent industriel&quot;, &quot;NB_ETAGES&quot;: null, &quot;NB_LOGTS&quot;: null, &quot;ORIGIN_BAT&quot;: &quot;Imagerie a\\u00e9rienne&quot;, &quot;PREC_ALTI&quot;: 1.5, &quot;PREC_PLANI&quot;: 2.5, &quot;SOURCE&quot;: null, &quot;USAGE1&quot;: &quot;Indiff\\u00e9renci\\u00e9&quot;, &quot;USAGE2&quot;: null, &quot;Z_MAX_SOL&quot;: null, &quot;Z_MAX_TOIT&quot;: null, &quot;Z_MIN_SOL&quot;: 183.4, &quot;Z_MIN_TOIT&quot;: null, &quot;id&quot;: &quot;BATIMENT0000000201392314&quot;, &quot;index_right&quot;: 62}, &quot;type&quot;: &quot;Feature&quot;}, {&quot;bbox&quot;: [4.920964290984386, 45.75968511607496, 4.921827854554137, 45.759969362405265], &quot;geometry&quot;: {&quot;coordinates&quot;: [[[4.921827854554137, 45.75968511607496, 207.0], [4.921628664276884, 45.75969301373612, 206.1], [4.921468993561391, 45.759764191410056, 216.4], [4.921178870484082, 45.75971058451603, 217.5], [4.921071278432436, 45.759688096749905, 211.8], [4.921055560477001, 45.75971718862822, 199.3], [4.921054430845369, 45.759721711643905, 216.6], [4.920964290984386, 45.75994213038392, 216.6], [4.921110654719853, 45.759969362405265, 216.6], [4.921399561098333, 45.75995092981048, 216.6], [4.921702927601807, 45.75994125765289, 206.9], [4.921827854554137, 45.75968511607496, 207.0]]], &quot;type&quot;: &quot;Polygon&quot;}, &quot;id&quot;: &quot;48120&quot;, &quot;properties&quot;: {&quot;ACQU_ALTI&quot;: &quot;Photogramm\\u00e9trie&quot;, &quot;ACQU_PLANI&quot;: &quot;Photogramm\\u00e9trie&quot;, &quot;APP_FF&quot;: null, &quot;DATE_APP&quot;: null, &quot;DATE_CONF&quot;: &quot;2020-06-24&quot;, &quot;DATE_CREAT&quot;: &quot;2021-12-16 16:46:56&quot;, &quot;DATE_MAJ&quot;: null, &quot;ETAT&quot;: &quot;En service&quot;, &quot;HAUTEUR&quot;: 33.1, &quot;ID&quot;: &quot;BATIMENT0000002275503723&quot;, &quot;ID_SOURCE&quot;: null, &quot;LEGER&quot;: &quot;Non&quot;, &quot;MAT_MURS&quot;: null, &quot;MAT_TOITS&quot;: null, &quot;NATURE_left&quot;: &quot;Indiff\\u00e9renci\\u00e9e&quot;, &quot;NATURE_right&quot;: &quot;B\\u00e2timent industriel&quot;, &quot;NB_ETAGES&quot;: null, &quot;NB_LOGTS&quot;: null, &quot;ORIGIN_BAT&quot;: &quot;Imagerie a\\u00e9rienne&quot;, &quot;PREC_ALTI&quot;: 1.5, &quot;PREC_PLANI&quot;: 2.5, &quot;SOURCE&quot;: null, &quot;USAGE1&quot;: &quot;Indiff\\u00e9renci\\u00e9&quot;, &quot;USAGE2&quot;: null, &quot;Z_MAX_SOL&quot;: null, &quot;Z_MAX_TOIT&quot;: null, &quot;Z_MIN_SOL&quot;: 184.4, &quot;Z_MIN_TOIT&quot;: null, &quot;id&quot;: &quot;BATIMENT0000000201392314&quot;, &quot;index_right&quot;: 62}, &quot;type&quot;: &quot;Feature&quot;}, {&quot;bbox&quot;: [4.922076026981381, 45.759241950513974, 4.922863121253901, 45.75945904198643], &quot;geometry&quot;: {&quot;coordinates&quot;: [[[4.922852867347423, 45.75933436636633, 201.0], [4.922823381025316, 45.75933757132637, 199.8], [4.922820841961347, 45.759301584391416, 199.5], [4.922831635550235, 45.759241950513974, 191.8], [4.922739067842484, 45.75924442935636, 191.8], [4.922719774497692, 45.759281689233916, 201.0], [4.922692797749321, 45.7592830498676, 201.0], [4.922702397451101, 45.75926306959923, 197.2], [4.9226046539886505, 45.759264735807015, 197.5], [4.922600386568927, 45.75929002970395, 200.5], [4.922533603387147, 45.759293870354306, 200.5], [4.922533225550637, 45.75931999870303, 200.5], [4.922395738162366, 45.759325945204054, 200.3], [4.9223948612819255, 45.75930073899827, 200.3], [4.922303642186691, 45.75930499600577, 200.3], [4.922308035006245, 45.75928330300667, 197.1], [4.922234852632325, 45.7592881533009, 197.1], [4.92224344823402, 45.75927629698566, 192.5], [4.92216891713802, 45.75927936871287, 192.9], [4.922146769379426, 45.7593085703337, 192.6], [4.922143130272469, 45.75931493763958, 203.0], [4.922106582594336, 45.75937410958361, 205.8], [4.922098897300854, 45.75937514131038, 205.8], [4.922076026981381, 45.75942056882594, 205.6], [4.922100053565868, 45.75944538052212, 205.6], [4.922157865556564, 45.75944259377741, 194.7], [4.922249084890117, 45.75943833688775, 205.6], [4.922249805131889, 45.75945904198643, 205.6], [4.9223487411020255, 45.75945465350082, 205.6], [4.922346672088108, 45.75943216987976, 205.6], [4.922401974482938, 45.75943122729381, 205.6], [4.92259338445379, 45.75942165936302, 201.0], [4.922595390926688, 45.75944234253635, 201.0], [4.922698153823995, 45.75943698775329, 201.0], [4.92269504914371, 45.75942172783538, 201.0], [4.922822279248953, 45.7594168565972, 201.0], [4.922821997331449, 45.75940875460351, 201.0], [4.922863121253901, 45.759407152751855, 201.0], [4.922852867347423, 45.75933436636633, 201.0]]], &quot;type&quot;: &quot;Polygon&quot;}, &quot;id&quot;: &quot;48121&quot;, &quot;properties&quot;: {&quot;ACQU_ALTI&quot;: &quot;Photogramm\\u00e9trie&quot;, &quot;ACQU_PLANI&quot;: &quot;Photogramm\\u00e9trie&quot;, &quot;APP_FF&quot;: null, &quot;DATE_APP&quot;: null, &quot;DATE_CONF&quot;: &quot;2020-06-24&quot;, &quot;DATE_CREAT&quot;: &quot;2021-12-16 16:46:56&quot;, &quot;DATE_MAJ&quot;: null, &quot;ETAT&quot;: &quot;En service&quot;, &quot;HAUTEUR&quot;: 21.5, &quot;ID&quot;: &quot;BATIMENT0000002275503724&quot;, &quot;ID_SOURCE&quot;: null, &quot;LEGER&quot;: &quot;Non&quot;, &quot;MAT_MURS&quot;: null, &quot;MAT_TOITS&quot;: null, &quot;NATURE_left&quot;: &quot;Indiff\\u00e9renci\\u00e9e&quot;, &quot;NATURE_right&quot;: &quot;B\\u00e2timent industriel&quot;, &quot;NB_ETAGES&quot;: null, &quot;NB_LOGTS&quot;: null, &quot;ORIGIN_BAT&quot;: &quot;Imagerie a\\u00e9rienne&quot;, &quot;PREC_ALTI&quot;: 1.5, &quot;PREC_PLANI&quot;: 2.5, &quot;SOURCE&quot;: null, &quot;USAGE1&quot;: &quot;Indiff\\u00e9renci\\u00e9&quot;, &quot;USAGE2&quot;: null, &quot;Z_MAX_SOL&quot;: null, &quot;Z_MAX_TOIT&quot;: null, &quot;Z_MIN_SOL&quot;: 184.3, &quot;Z_MIN_TOIT&quot;: null, &quot;id&quot;: &quot;BATIMENT0000000201392314&quot;, &quot;index_right&quot;: 62}, &quot;type&quot;: &quot;Feature&quot;}, {&quot;bbox&quot;: [4.921137322813143, 45.75929266830657, 4.921979665628685, 45.759518177985655], &quot;geometry&quot;: {&quot;coordinates&quot;: [[[4.921979665628685, 45.75938798223214, 208.6], [4.921951246158981, 45.75938486349583, 206.9], [4.921962009392267, 45.75932432947961, 201.6], [4.921969916233066, 45.75929266830657, 192.4], [4.921895353790782, 45.759294839631295, 192.5], [4.921884874707056, 45.75932654462916, 201.0], [4.921793686837326, 45.75933170144611, 201.3], [4.921803255565066, 45.759310821032365, 197.5], [4.921683742212789, 45.75931555964512, 198.6], [4.921676808250548, 45.75933819666711, 200.5], [4.9216164554484925, 45.759341927211096, 200.5], [4.921619904176598, 45.75936708959901, 200.5], [4.92146582246554, 45.75937692070893, 199.6], [4.921464852102303, 45.759349013830175, 199.6], [4.921321027921791, 45.759357769238086, 200.5], [4.92133665173551, 45.75932597665757, 193.3], [4.921233920210965, 45.75933223042233, 193.7], [4.921222154639648, 45.75936395726628, 203.6], [4.921186798152986, 45.759420406339096, 206.3], [4.921172619729072, 45.75941974709397, 206.3], [4.921137322813143, 45.759514927603604, 206.3], [4.921158025675613, 45.759518177985655, 206.3], [4.921235160657392, 45.75951596333306, 206.3], [4.921425222416412, 45.759504618847984, 206.3], [4.921420675472931, 45.759484879695144, 206.3], [4.921471994416085, 45.759480402406574, 206.3], [4.921592794246499, 45.759475642106445, 206.3], [4.921674948343242, 45.75946973861878, 206.3], [4.9216770483908725, 45.75949312247405, 206.3], [4.921775921853147, 45.7594869340471, 206.3], [4.921772566967836, 45.75946447232926, 206.3], [4.921942176032905, 45.75945707847856, 208.0], [4.921979665628685, 45.75938798223214, 208.6]]], &quot;type&quot;: &quot;Polygon&quot;}, &quot;id&quot;: &quot;48122&quot;, &quot;properties&quot;: {&quot;ACQU_ALTI&quot;: &quot;Photogramm\\u00e9trie&quot;, &quot;ACQU_PLANI&quot;: &quot;Photogramm\\u00e9trie&quot;, &quot;APP_FF&quot;: null, &quot;DATE_APP&quot;: null, &quot;DATE_CONF&quot;: &quot;2020-06-24&quot;, &quot;DATE_CREAT&quot;: &quot;2021-12-16 16:46:56&quot;, &quot;DATE_MAJ&quot;: null, &quot;ETAT&quot;: &quot;En service&quot;, &quot;HAUTEUR&quot;: 24.6, &quot;ID&quot;: &quot;BATIMENT0000002275503725&quot;, &quot;ID_SOURCE&quot;: null, &quot;LEGER&quot;: &quot;Non&quot;, &quot;MAT_MURS&quot;: null, &quot;MAT_TOITS&quot;: null, &quot;NATURE_left&quot;: &quot;Indiff\\u00e9renci\\u00e9e&quot;, &quot;NATURE_right&quot;: &quot;B\\u00e2timent industriel&quot;, &quot;NB_ETAGES&quot;: null, &quot;NB_LOGTS&quot;: null, &quot;ORIGIN_BAT&quot;: &quot;Imagerie a\\u00e9rienne&quot;, &quot;PREC_ALTI&quot;: 1.5, &quot;PREC_PLANI&quot;: 2.5, &quot;SOURCE&quot;: null, &quot;USAGE1&quot;: &quot;Indiff\\u00e9renci\\u00e9&quot;, &quot;USAGE2&quot;: null, &quot;Z_MAX_SOL&quot;: null, &quot;Z_MAX_TOIT&quot;: null, &quot;Z_MIN_SOL&quot;: 184.0, &quot;Z_MIN_TOIT&quot;: null, &quot;id&quot;: &quot;BATIMENT0000000201392314&quot;, &quot;index_right&quot;: 62}, &quot;type&quot;: &quot;Feature&quot;}], &quot;type&quot;: &quot;FeatureCollection&quot;});\n",
       "\n",
       "        \n",
       "    \n",
       "    geo_json_af4c58b5fabc21e2d3798e4df614f1f4.bindTooltip(\n",
       "    function(layer){\n",
       "    let div = L.DomUtil.create(&#x27;div&#x27;);\n",
       "    \n",
       "    let handleObject = feature=&gt;typeof(feature)==&#x27;object&#x27; ? JSON.stringify(feature) : feature;\n",
       "    let fields = [&quot;ID&quot;, &quot;NATURE_left&quot;, &quot;USAGE1&quot;, &quot;USAGE2&quot;, &quot;LEGER&quot;, &quot;ETAT&quot;, &quot;DATE_CREAT&quot;, &quot;DATE_MAJ&quot;, &quot;DATE_APP&quot;, &quot;DATE_CONF&quot;, &quot;SOURCE&quot;, &quot;ID_SOURCE&quot;, &quot;ACQU_PLANI&quot;, &quot;PREC_PLANI&quot;, &quot;ACQU_ALTI&quot;, &quot;PREC_ALTI&quot;, &quot;NB_LOGTS&quot;, &quot;NB_ETAGES&quot;, &quot;MAT_MURS&quot;, &quot;MAT_TOITS&quot;, &quot;HAUTEUR&quot;, &quot;Z_MIN_SOL&quot;, &quot;Z_MIN_TOIT&quot;, &quot;Z_MAX_TOIT&quot;, &quot;Z_MAX_SOL&quot;, &quot;ORIGIN_BAT&quot;, &quot;APP_FF&quot;, &quot;index_right&quot;, &quot;id&quot;, &quot;NATURE_right&quot;];\n",
       "    let aliases = [&quot;ID&quot;, &quot;NATURE_left&quot;, &quot;USAGE1&quot;, &quot;USAGE2&quot;, &quot;LEGER&quot;, &quot;ETAT&quot;, &quot;DATE_CREAT&quot;, &quot;DATE_MAJ&quot;, &quot;DATE_APP&quot;, &quot;DATE_CONF&quot;, &quot;SOURCE&quot;, &quot;ID_SOURCE&quot;, &quot;ACQU_PLANI&quot;, &quot;PREC_PLANI&quot;, &quot;ACQU_ALTI&quot;, &quot;PREC_ALTI&quot;, &quot;NB_LOGTS&quot;, &quot;NB_ETAGES&quot;, &quot;MAT_MURS&quot;, &quot;MAT_TOITS&quot;, &quot;HAUTEUR&quot;, &quot;Z_MIN_SOL&quot;, &quot;Z_MIN_TOIT&quot;, &quot;Z_MAX_TOIT&quot;, &quot;Z_MAX_SOL&quot;, &quot;ORIGIN_BAT&quot;, &quot;APP_FF&quot;, &quot;index_right&quot;, &quot;id&quot;, &quot;NATURE_right&quot;];\n",
       "    let table = &#x27;&lt;table&gt;&#x27; +\n",
       "        String(\n",
       "        fields.map(\n",
       "        (v,i)=&gt;\n",
       "        `&lt;tr&gt;\n",
       "            &lt;th&gt;${aliases[i]}&lt;/th&gt;\n",
       "            \n",
       "            &lt;td&gt;${handleObject(layer.feature.properties[v])}&lt;/td&gt;\n",
       "        &lt;/tr&gt;`).join(&#x27;&#x27;))\n",
       "    +&#x27;&lt;/table&gt;&#x27;;\n",
       "    div.innerHTML=table;\n",
       "    \n",
       "    return div\n",
       "    }\n",
       "    ,{&quot;className&quot;: &quot;foliumtooltip&quot;, &quot;sticky&quot;: true});\n",
       "                     \n",
       "    \n",
       "            geo_json_af4c58b5fabc21e2d3798e4df614f1f4.addTo(map_0ec0a276af47b3e1c2cf9ff8ef1f930d);\n",
       "        \n",
       "    \n",
       "        function geo_json_94e645f048343aeaa072fb12df5736aa_styler(feature) {\n",
       "            switch(feature.id) {\n",
       "                default:\n",
       "                    return {&quot;color&quot;: &quot;red&quot;, &quot;fillColor&quot;: &quot;red&quot;, &quot;fillOpacity&quot;: 0.5, &quot;weight&quot;: 2};\n",
       "            }\n",
       "        }\n",
       "        function geo_json_94e645f048343aeaa072fb12df5736aa_highlighter(feature) {\n",
       "            switch(feature.id) {\n",
       "                default:\n",
       "                    return {&quot;fillOpacity&quot;: 0.75};\n",
       "            }\n",
       "        }\n",
       "        function geo_json_94e645f048343aeaa072fb12df5736aa_pointToLayer(feature, latlng) {\n",
       "            var opts = {&quot;bubblingMouseEvents&quot;: true, &quot;color&quot;: &quot;#3388ff&quot;, &quot;dashArray&quot;: null, &quot;dashOffset&quot;: null, &quot;fill&quot;: true, &quot;fillColor&quot;: &quot;#3388ff&quot;, &quot;fillOpacity&quot;: 0.2, &quot;fillRule&quot;: &quot;evenodd&quot;, &quot;lineCap&quot;: &quot;round&quot;, &quot;lineJoin&quot;: &quot;round&quot;, &quot;opacity&quot;: 1.0, &quot;radius&quot;: 2, &quot;stroke&quot;: true, &quot;weight&quot;: 3};\n",
       "            \n",
       "            let style = geo_json_94e645f048343aeaa072fb12df5736aa_styler(feature)\n",
       "            Object.assign(opts, style)\n",
       "            \n",
       "            return new L.CircleMarker(latlng, opts)\n",
       "        }\n",
       "\n",
       "        function geo_json_94e645f048343aeaa072fb12df5736aa_onEachFeature(feature, layer) {\n",
       "            layer.on({\n",
       "                mouseout: function(e) {\n",
       "                    if(typeof e.target.setStyle === &quot;function&quot;){\n",
       "                            geo_json_94e645f048343aeaa072fb12df5736aa.resetStyle(e.target);\n",
       "                    }\n",
       "                },\n",
       "                mouseover: function(e) {\n",
       "                    if(typeof e.target.setStyle === &quot;function&quot;){\n",
       "                        const highlightStyle = geo_json_94e645f048343aeaa072fb12df5736aa_highlighter(e.target.feature)\n",
       "                        e.target.setStyle(highlightStyle);\n",
       "                    }\n",
       "                },\n",
       "            });\n",
       "        };\n",
       "        var geo_json_94e645f048343aeaa072fb12df5736aa = L.geoJson(null, {\n",
       "                onEachFeature: geo_json_94e645f048343aeaa072fb12df5736aa_onEachFeature,\n",
       "            \n",
       "                style: geo_json_94e645f048343aeaa072fb12df5736aa_styler,\n",
       "                pointToLayer: geo_json_94e645f048343aeaa072fb12df5736aa_pointToLayer,\n",
       "        });\n",
       "\n",
       "        function geo_json_94e645f048343aeaa072fb12df5736aa_add (data) {\n",
       "            geo_json_94e645f048343aeaa072fb12df5736aa\n",
       "                .addData(data);\n",
       "        }\n",
       "            geo_json_94e645f048343aeaa072fb12df5736aa_add({&quot;bbox&quot;: [4.921139721916014, 45.75922930603587, 4.922997706386924, 45.75983317055302], &quot;features&quot;: [{&quot;bbox&quot;: [4.921139721916014, 45.75922930603587, 4.922997706386924, 45.75983317055302], &quot;geometry&quot;: {&quot;coordinates&quot;: [[[4.922997706386924, 45.75976155740588, 197.9], [4.9229392918340364, 45.75922930603587, 190.5], [4.921139721916014, 45.759324827418375, 190.5], [4.921194013417751, 45.75981301265955, 190.5], [4.921362212316035, 45.75980204069985, 190.5], [4.921363088733485, 45.75982724691431, 190.5], [4.921655883924109, 45.75980964815787, 190.5], [4.921663571871171, 45.75977168545252, 191.3], [4.921855014457516, 45.75976301899625, 192.4], [4.921861314867722, 45.75983317055302, 193.3], [4.922919379001171, 45.759766495855025, 192.4], [4.922997706386924, 45.75976155740588, 197.9]]], &quot;type&quot;: &quot;Polygon&quot;}, &quot;id&quot;: &quot;62&quot;, &quot;properties&quot;: {&quot;NATURE&quot;: &quot;B\\u00e2timent industriel&quot;, &quot;__folium_color&quot;: &quot;red&quot;, &quot;id&quot;: &quot;BATIMENT0000000201392314&quot;}, &quot;type&quot;: &quot;Feature&quot;}], &quot;type&quot;: &quot;FeatureCollection&quot;});\n",
       "\n",
       "        \n",
       "    \n",
       "    geo_json_94e645f048343aeaa072fb12df5736aa.bindTooltip(\n",
       "    function(layer){\n",
       "    let div = L.DomUtil.create(&#x27;div&#x27;);\n",
       "    \n",
       "    let handleObject = feature=&gt;typeof(feature)==&#x27;object&#x27; ? JSON.stringify(feature) : feature;\n",
       "    let fields = [&quot;id&quot;, &quot;NATURE&quot;];\n",
       "    let aliases = [&quot;id&quot;, &quot;NATURE&quot;];\n",
       "    let table = &#x27;&lt;table&gt;&#x27; +\n",
       "        String(\n",
       "        fields.map(\n",
       "        (v,i)=&gt;\n",
       "        `&lt;tr&gt;\n",
       "            &lt;th&gt;${aliases[i]}&lt;/th&gt;\n",
       "            \n",
       "            &lt;td&gt;${handleObject(layer.feature.properties[v])}&lt;/td&gt;\n",
       "        &lt;/tr&gt;`).join(&#x27;&#x27;))\n",
       "    +&#x27;&lt;/table&gt;&#x27;;\n",
       "    div.innerHTML=table;\n",
       "    \n",
       "    return div\n",
       "    }\n",
       "    ,{&quot;className&quot;: &quot;foliumtooltip&quot;, &quot;sticky&quot;: true});\n",
       "                     \n",
       "    \n",
       "            geo_json_94e645f048343aeaa072fb12df5736aa.addTo(map_0ec0a276af47b3e1c2cf9ff8ef1f930d);\n",
       "        \n",
       "    \n",
       "            var layer_control_ee73fa34ffcb27e047a419d3375f85b8_layers = {\n",
       "                base_layers : {\n",
       "                    &quot;openstreetmap&quot; : tile_layer_f4fb67964f404f3d069765b39bc9b80b,\n",
       "                },\n",
       "                overlays :  {\n",
       "                    &quot;macro_element_af4c58b5fabc21e2d3798e4df614f1f4&quot; : geo_json_af4c58b5fabc21e2d3798e4df614f1f4,\n",
       "                    &quot;warehouses_t1&quot; : geo_json_94e645f048343aeaa072fb12df5736aa,\n",
       "                },\n",
       "            };\n",
       "            let layer_control_ee73fa34ffcb27e047a419d3375f85b8 = L.control.layers(\n",
       "                layer_control_ee73fa34ffcb27e047a419d3375f85b8_layers.base_layers,\n",
       "                layer_control_ee73fa34ffcb27e047a419d3375f85b8_layers.overlays,\n",
       "                {&quot;autoZIndex&quot;: true, &quot;collapsed&quot;: true, &quot;position&quot;: &quot;topright&quot;}\n",
       "            ).addTo(map_0ec0a276af47b3e1c2cf9ff8ef1f930d);\n",
       "\n",
       "        \n",
       "&lt;/script&gt;\n",
       "&lt;/html&gt;\" style=\"position:absolute;width:100%;height:100%;left:0;top:0;border:none !important;\" allowfullscreen webkitallowfullscreen mozallowfullscreen></iframe></div></div>"
      ],
      "text/plain": [
       "<folium.folium.Map at 0x7fd7cf17df90>"
      ]
     },
     "execution_count": 48,
     "metadata": {},
     "output_type": "execute_result"
    }
   ],
   "source": [
    "m = correpondance_2023.to_crs(4326).explore()\n",
    "bati_test_2013.to_crs(4326).explore(\n",
    "    m=m,\n",
    "    color='red',\n",
    "    name='warehouses_t1'\n",
    ")\n",
    "folium.LayerControl().add_to(m)\n",
    "m"
   ]
  },
  {
   "cell_type": "code",
   "execution_count": 12,
   "id": "7cb60f5e-284c-4e67-9f72-a945ba961106",
   "metadata": {},
   "outputs": [],
   "source": [
    "wh_old = gpd.read_file(\"/home/rustt/Documents/IGAST/2_PROJETS/Projet_analyse_spatiale/old_review/data/processed/Entrepots/vecteur/Entrepots_LYON_2013_25km.gpkg\")"
   ]
  },
  {
   "cell_type": "code",
   "execution_count": 15,
   "id": "de2c0288-f2a3-4eed-ab17-415d7284a830",
   "metadata": {},
   "outputs": [
    {
     "data": {
      "text/plain": [
       "(260, 2)"
      ]
     },
     "execution_count": 15,
     "metadata": {},
     "output_type": "execute_result"
    }
   ],
   "source": [
    "wh_old.shape"
   ]
  },
  {
   "cell_type": "code",
   "execution_count": 18,
   "id": "11d25531-3c65-4ed2-9a60-7832a00378ae",
   "metadata": {},
   "outputs": [
    {
     "data": {
      "text/plain": [
       "Index(['id', 'geometry'], dtype='object')"
      ]
     },
     "execution_count": 18,
     "metadata": {},
     "output_type": "execute_result"
    }
   ],
   "source": [
    "wh_old.columns"
   ]
  },
  {
   "cell_type": "code",
   "execution_count": 21,
   "id": "f5ab8eff-e9cd-4a10-a371-20a1104dbfbf",
   "metadata": {},
   "outputs": [],
   "source": [
    "year = \"2013\"\n",
    "wh_new = gpd.read_file(\n",
    "    make_path(\n",
    "        appariement_name.format(roi_name.upper(), year, int(r/1000)), \n",
    "        processed_data_path, name, year, \"Appariement\"\n",
    "    )\n",
    ").rename({\"ID\":\"id\"}, axis=1)"
   ]
  },
  {
   "cell_type": "code",
   "execution_count": 27,
   "id": "d586c88b-b644-41aa-a2ee-88c40970a2dc",
   "metadata": {},
   "outputs": [
    {
     "data": {
      "text/plain": [
       "id            object\n",
       "NATURE        object\n",
       "geometry    geometry\n",
       "dtype: object"
      ]
     },
     "execution_count": 27,
     "metadata": {},
     "output_type": "execute_result"
    }
   ],
   "source": [
    "wh_new.dtypes"
   ]
  },
  {
   "cell_type": "code",
   "execution_count": 32,
   "id": "b3ba2091-bcf6-48bf-9cf0-775ffa39b6a9",
   "metadata": {},
   "outputs": [
    {
     "data": {
      "text/plain": [
       "<Projected CRS: EPSG:2154>\n",
       "Name: RGF93 v1 / Lambert-93\n",
       "Axis Info [cartesian]:\n",
       "- X[east]: Easting (metre)\n",
       "- Y[north]: Northing (metre)\n",
       "Area of Use:\n",
       "- name: France - onshore and offshore, mainland and Corsica (France métropolitaine including Corsica).\n",
       "- bounds: (-9.86, 41.15, 10.38, 51.56)\n",
       "Coordinate Operation:\n",
       "- name: Lambert-93\n",
       "- method: Lambert Conic Conformal (2SP)\n",
       "Datum: Reseau Geodesique Francais 1993 v1\n",
       "- Ellipsoid: GRS 1980\n",
       "- Prime Meridian: Greenwich"
      ]
     },
     "execution_count": 32,
     "metadata": {},
     "output_type": "execute_result"
    }
   ],
   "source": [
    "wh_new.crs"
   ]
  },
  {
   "cell_type": "code",
   "execution_count": 33,
   "id": "1eb2faaf-5fa4-4825-af99-312eef41a7ae",
   "metadata": {},
   "outputs": [
    {
     "data": {
      "text/plain": [
       "<Projected CRS: EPSG:2154>\n",
       "Name: RGF93 v1 / Lambert-93\n",
       "Axis Info [cartesian]:\n",
       "- X[east]: Easting (metre)\n",
       "- Y[north]: Northing (metre)\n",
       "Area of Use:\n",
       "- name: France - onshore and offshore, mainland and Corsica (France métropolitaine including Corsica).\n",
       "- bounds: (-9.86, 41.15, 10.38, 51.56)\n",
       "Coordinate Operation:\n",
       "- name: Lambert-93\n",
       "- method: Lambert Conic Conformal (2SP)\n",
       "Datum: Reseau Geodesique Francais 1993 v1\n",
       "- Ellipsoid: GRS 1980\n",
       "- Prime Meridian: Greenwich"
      ]
     },
     "execution_count": 33,
     "metadata": {},
     "output_type": "execute_result"
    }
   ],
   "source": [
    "wh_old.crs"
   ]
  },
  {
   "cell_type": "code",
   "execution_count": 31,
   "id": "cd15f32c-4cdc-48a2-b235-463d80643f90",
   "metadata": {},
   "outputs": [
    {
     "data": {
      "text/html": [
       "<div>\n",
       "<style scoped>\n",
       "    .dataframe tbody tr th:only-of-type {\n",
       "        vertical-align: middle;\n",
       "    }\n",
       "\n",
       "    .dataframe tbody tr th {\n",
       "        vertical-align: top;\n",
       "    }\n",
       "\n",
       "    .dataframe thead th {\n",
       "        text-align: right;\n",
       "    }\n",
       "</style>\n",
       "<table border=\"1\" class=\"dataframe\">\n",
       "  <thead>\n",
       "    <tr style=\"text-align: right;\">\n",
       "      <th></th>\n",
       "      <th>id_left</th>\n",
       "      <th>geometry</th>\n",
       "      <th>index_right</th>\n",
       "      <th>id_right</th>\n",
       "      <th>NATURE</th>\n",
       "    </tr>\n",
       "  </thead>\n",
       "  <tbody>\n",
       "    <tr>\n",
       "      <th>1</th>\n",
       "      <td>19008</td>\n",
       "      <td>POLYGON Z ((845251.100 6492728.300 159.400, 84...</td>\n",
       "      <td>144</td>\n",
       "      <td>BATIMENT0000000238819038</td>\n",
       "      <td>Bâtiment industriel</td>\n",
       "    </tr>\n",
       "    <tr>\n",
       "      <th>2</th>\n",
       "      <td>19039</td>\n",
       "      <td>POLYGON Z ((845527.600 6493553.700 164.400, 84...</td>\n",
       "      <td>145</td>\n",
       "      <td>BATIMENT0000000238819744</td>\n",
       "      <td>Bâtiment industriel</td>\n",
       "    </tr>\n",
       "    <tr>\n",
       "      <th>3</th>\n",
       "      <td>19115</td>\n",
       "      <td>POLYGON Z ((845604.400 6493735.300 171.000, 84...</td>\n",
       "      <td>54</td>\n",
       "      <td>BATIMENT0000000317254238</td>\n",
       "      <td>Bâtiment industriel</td>\n",
       "    </tr>\n",
       "    <tr>\n",
       "      <th>5</th>\n",
       "      <td>20229</td>\n",
       "      <td>POLYGON Z ((849951.400 6507067.700 233.000, 84...</td>\n",
       "      <td>56</td>\n",
       "      <td>BATIMENT0000000317255348</td>\n",
       "      <td>Bâtiment industriel</td>\n",
       "    </tr>\n",
       "    <tr>\n",
       "      <th>6</th>\n",
       "      <td>20336</td>\n",
       "      <td>POLYGON Z ((849591.600 6507538.000 213.700, 84...</td>\n",
       "      <td>64</td>\n",
       "      <td>BATIMENT0000000013466857</td>\n",
       "      <td>Bâtiment industriel</td>\n",
       "    </tr>\n",
       "    <tr>\n",
       "      <th>...</th>\n",
       "      <td>...</td>\n",
       "      <td>...</td>\n",
       "      <td>...</td>\n",
       "      <td>...</td>\n",
       "      <td>...</td>\n",
       "    </tr>\n",
       "    <tr>\n",
       "      <th>253</th>\n",
       "      <td>84115</td>\n",
       "      <td>POLYGON Z ((832528.700 6520322.700 311.500, 83...</td>\n",
       "      <td>105</td>\n",
       "      <td>BATIMENT0000000235948014</td>\n",
       "      <td>Bâtiment industriel</td>\n",
       "    </tr>\n",
       "    <tr>\n",
       "      <th>254</th>\n",
       "      <td>84123</td>\n",
       "      <td>POLYGON Z ((832630.000 6520246.500 309.400, 83...</td>\n",
       "      <td>106</td>\n",
       "      <td>BATIMENT0000000235948028</td>\n",
       "      <td>Bâtiment industriel</td>\n",
       "    </tr>\n",
       "    <tr>\n",
       "      <th>255</th>\n",
       "      <td>84403</td>\n",
       "      <td>POLYGON Z ((839837.500 6520531.400 183.600, 83...</td>\n",
       "      <td>194</td>\n",
       "      <td>BATIMENT0000000240885161</td>\n",
       "      <td>Bâtiment industriel</td>\n",
       "    </tr>\n",
       "    <tr>\n",
       "      <th>257</th>\n",
       "      <td>84487</td>\n",
       "      <td>POLYGON Z ((839957.700 6521550.200 180.900, 83...</td>\n",
       "      <td>73</td>\n",
       "      <td>BATIMENT0000000240871468</td>\n",
       "      <td>Bâtiment industriel</td>\n",
       "    </tr>\n",
       "    <tr>\n",
       "      <th>258</th>\n",
       "      <td>84494</td>\n",
       "      <td>POLYGON Z ((840080.700 6521824.100 178.300, 84...</td>\n",
       "      <td>193</td>\n",
       "      <td>BATIMENT0000000240876606</td>\n",
       "      <td>Bâtiment industriel</td>\n",
       "    </tr>\n",
       "  </tbody>\n",
       "</table>\n",
       "<p>210 rows × 5 columns</p>\n",
       "</div>"
      ],
      "text/plain": [
       "     id_left                                           geometry  index_right  \\\n",
       "1      19008  POLYGON Z ((845251.100 6492728.300 159.400, 84...          144   \n",
       "2      19039  POLYGON Z ((845527.600 6493553.700 164.400, 84...          145   \n",
       "3      19115  POLYGON Z ((845604.400 6493735.300 171.000, 84...           54   \n",
       "5      20229  POLYGON Z ((849951.400 6507067.700 233.000, 84...           56   \n",
       "6      20336  POLYGON Z ((849591.600 6507538.000 213.700, 84...           64   \n",
       "..       ...                                                ...          ...   \n",
       "253    84115  POLYGON Z ((832528.700 6520322.700 311.500, 83...          105   \n",
       "254    84123  POLYGON Z ((832630.000 6520246.500 309.400, 83...          106   \n",
       "255    84403  POLYGON Z ((839837.500 6520531.400 183.600, 83...          194   \n",
       "257    84487  POLYGON Z ((839957.700 6521550.200 180.900, 83...           73   \n",
       "258    84494  POLYGON Z ((840080.700 6521824.100 178.300, 84...          193   \n",
       "\n",
       "                     id_right               NATURE  \n",
       "1    BATIMENT0000000238819038  Bâtiment industriel  \n",
       "2    BATIMENT0000000238819744  Bâtiment industriel  \n",
       "3    BATIMENT0000000317254238  Bâtiment industriel  \n",
       "5    BATIMENT0000000317255348  Bâtiment industriel  \n",
       "6    BATIMENT0000000013466857  Bâtiment industriel  \n",
       "..                        ...                  ...  \n",
       "253  BATIMENT0000000235948014  Bâtiment industriel  \n",
       "254  BATIMENT0000000235948028  Bâtiment industriel  \n",
       "255  BATIMENT0000000240885161  Bâtiment industriel  \n",
       "257  BATIMENT0000000240871468  Bâtiment industriel  \n",
       "258  BATIMENT0000000240876606  Bâtiment industriel  \n",
       "\n",
       "[210 rows x 5 columns]"
      ]
     },
     "execution_count": 31,
     "metadata": {},
     "output_type": "execute_result"
    }
   ],
   "source": [
    "gpd.sjoin(wh_old, wh_new, predicate=\"intersects\")"
   ]
  },
  {
   "cell_type": "code",
   "execution_count": 26,
   "id": "9e23f0f7-5a99-4e3c-84b1-564e2c42199f",
   "metadata": {},
   "outputs": [
    {
     "data": {
      "text/plain": [
       "224"
      ]
     },
     "execution_count": 26,
     "metadata": {},
     "output_type": "execute_result"
    }
   ],
   "source": [
    "len(set(wh_new[\"id\"]).difference(wh_old[\"id\"]))"
   ]
  },
  {
   "cell_type": "code",
   "execution_count": null,
   "id": "3d859e07-31e1-4e7b-bc78-692789febb7b",
   "metadata": {},
   "outputs": [],
   "source": [
    "set(wh_app_old.ID).difference(wh_new.ID)"
   ]
  },
  {
   "cell_type": "markdown",
   "id": "d666c4b2-6fe9-43a4-a234-1581d3d3cf59",
   "metadata": {},
   "source": [
    "### To add\n",
    "* rename columns\n",
    "* astype id wh\n",
    "* remove dept Loire\n",
    "* drop duplicates"
   ]
  },
  {
   "cell_type": "code",
   "execution_count": null,
   "id": "b12560ed-0afc-4586-96c2-c9c5b8d7cab1",
   "metadata": {},
   "outputs": [],
   "source": []
  }
 ],
 "metadata": {
  "kernelspec": {
   "display_name": "Python 3 (ipykernel)",
   "language": "python",
   "name": "python3"
  },
  "language_info": {
   "codemirror_mode": {
    "name": "ipython",
    "version": 3
   },
   "file_extension": ".py",
   "mimetype": "text/x-python",
   "name": "python",
   "nbconvert_exporter": "python",
   "pygments_lexer": "ipython3",
   "version": "3.10.13"
  }
 },
 "nbformat": 4,
 "nbformat_minor": 5
}
